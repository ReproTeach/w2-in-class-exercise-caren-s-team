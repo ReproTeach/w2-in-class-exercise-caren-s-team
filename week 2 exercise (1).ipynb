{
 "cells": [
  {
   "cell_type": "code",
   "execution_count": 4,
   "id": "d8fe1349-38f6-4172-94d2-a8a8ab20b63d",
   "metadata": {
    "tags": []
   },
   "outputs": [],
   "source": [
    "# Team Members: Caren Chua, Shoshana Medved, Arggin Avanessian, Abigail Salas"
   ]
  },
  {
   "cell_type": "code",
   "execution_count": 3,
   "id": "2bf571ca-2df2-408b-b5c7-24d05080ee06",
   "metadata": {
    "tags": []
   },
   "outputs": [
    {
     "name": "stdout",
     "output_type": "stream",
     "text": [
      "Hello World\n"
     ]
    }
   ],
   "source": [
    "print(\"Hello World\")"
   ]
  },
  {
   "cell_type": "code",
   "execution_count": 5,
   "id": "dc10397b-c85e-4344-9502-6323d5d250db",
   "metadata": {
    "tags": []
   },
   "outputs": [],
   "source": [
    "a_list = (5, 10, 29, 30)"
   ]
  },
  {
   "cell_type": "code",
   "execution_count": 9,
   "id": "40e66abf-adbc-41db-a8e6-40dba42a923b",
   "metadata": {
    "tags": []
   },
   "outputs": [],
   "source": [
    "def get_max(a_list):\n",
    "    for i in range (len(a_list)):\n",
    "            previous_el = a_list[i-1]\n",
    "            current_el = a_list[i]\n",
    "            if previous_el >= current_el:\n",
    "                max_el = previous_el\n",
    "            else:\n",
    "                max_el = current_el\n",
    "            return max_el"
   ]
  },
  {
   "cell_type": "code",
   "execution_count": 10,
   "id": "e47f5144-bfab-42e9-a02e-1c006f6fd4e7",
   "metadata": {
    "tags": []
   },
   "outputs": [
    {
     "data": {
      "text/plain": [
       "17"
      ]
     },
     "execution_count": 10,
     "metadata": {},
     "output_type": "execute_result"
    }
   ],
   "source": [
    "a_list = [17, 9, 10, 3]\n",
    "get_max(a_list)"
   ]
  }
 ],
 "metadata": {
  "kernelspec": {
   "display_name": "Python 3 (ipykernel)",
   "language": "python",
   "name": "python3"
  },
  "language_info": {
   "codemirror_mode": {
    "name": "ipython",
    "version": 3
   },
   "file_extension": ".py",
   "mimetype": "text/x-python",
   "name": "python",
   "nbconvert_exporter": "python",
   "pygments_lexer": "ipython3",
   "version": "3.10.9"
  }
 },
 "nbformat": 4,
 "nbformat_minor": 5
}
